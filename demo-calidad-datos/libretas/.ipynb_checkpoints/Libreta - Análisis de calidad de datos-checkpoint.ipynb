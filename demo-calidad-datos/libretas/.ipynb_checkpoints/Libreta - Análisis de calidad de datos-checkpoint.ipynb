{
 "cells": [
  {
   "cell_type": "markdown",
   "metadata": {},
   "source": [
    "## Carga de librerías necesarias para el procesamiento del dataset"
   ]
  },
  {
   "cell_type": "code",
   "execution_count": 1,
   "metadata": {},
   "outputs": [],
   "source": [
    "#Se importan las librerias a utilizar\n",
    "\n",
    "import pandas as pd\n",
    "import numpy as np\n",
    "import matplotlib.pyplot as plt\n",
    "%matplotlib inline"
   ]
  },
  {
   "cell_type": "markdown",
   "metadata": {},
   "source": [
    "## Análisisdel dataset\n",
    "\n",
    "### Lectura del archivo de datos"
   ]
  },
  {
   "cell_type": "code",
   "execution_count": 2,
   "metadata": {},
   "outputs": [
    {
     "data": {
      "text/html": [
       "<div>\n",
       "<style scoped>\n",
       "    .dataframe tbody tr th:only-of-type {\n",
       "        vertical-align: middle;\n",
       "    }\n",
       "\n",
       "    .dataframe tbody tr th {\n",
       "        vertical-align: top;\n",
       "    }\n",
       "\n",
       "    .dataframe thead th {\n",
       "        text-align: right;\n",
       "    }\n",
       "</style>\n",
       "<table border=\"1\" class=\"dataframe\">\n",
       "  <thead>\n",
       "    <tr style=\"text-align: right;\">\n",
       "      <th></th>\n",
       "      <th>unidad_academica</th>\n",
       "      <th>carrera</th>\n",
       "      <th>nro_inscripcion</th>\n",
       "      <th>regular</th>\n",
       "      <th>cnt_readmisiones</th>\n",
       "      <th>calidad</th>\n",
       "      <th>anio_plan_estudios</th>\n",
       "      <th>fecha_ingreso_alumno</th>\n",
       "    </tr>\n",
       "  </thead>\n",
       "  <tbody>\n",
       "    <tr>\n",
       "      <th>0</th>\n",
       "      <td>FCEQN</td>\n",
       "      <td>170</td>\n",
       "      <td>FCEQN-3342</td>\n",
       "      <td>S</td>\n",
       "      <td>0.0</td>\n",
       "      <td>A</td>\n",
       "      <td>2005.0</td>\n",
       "      <td>02/28/2011</td>\n",
       "    </tr>\n",
       "    <tr>\n",
       "      <th>1</th>\n",
       "      <td>FCEQN</td>\n",
       "      <td>102</td>\n",
       "      <td>FCEQN-5396</td>\n",
       "      <td>S</td>\n",
       "      <td>0.0</td>\n",
       "      <td>A</td>\n",
       "      <td>2005.0</td>\n",
       "      <td>12/12/2010</td>\n",
       "    </tr>\n",
       "    <tr>\n",
       "      <th>2</th>\n",
       "      <td>FCEQN</td>\n",
       "      <td>143</td>\n",
       "      <td>FCEQN-3162</td>\n",
       "      <td>S</td>\n",
       "      <td>0.0</td>\n",
       "      <td>A</td>\n",
       "      <td>2008.0</td>\n",
       "      <td>07/03/2011</td>\n",
       "    </tr>\n",
       "    <tr>\n",
       "      <th>3</th>\n",
       "      <td>FCEQN</td>\n",
       "      <td>106</td>\n",
       "      <td>FCEQN-5739</td>\n",
       "      <td>S</td>\n",
       "      <td>0.0</td>\n",
       "      <td>A</td>\n",
       "      <td>2008.0</td>\n",
       "      <td>12/03/2011</td>\n",
       "    </tr>\n",
       "    <tr>\n",
       "      <th>4</th>\n",
       "      <td>FCEQN</td>\n",
       "      <td>172</td>\n",
       "      <td>4683</td>\n",
       "      <td>S</td>\n",
       "      <td>0.0</td>\n",
       "      <td>A</td>\n",
       "      <td>2005.0</td>\n",
       "      <td>03/15/2011</td>\n",
       "    </tr>\n",
       "  </tbody>\n",
       "</table>\n",
       "</div>"
      ],
      "text/plain": [
       "  unidad_academica carrera nro_inscripcion regular  cnt_readmisiones calidad  \\\n",
       "0            FCEQN     170      FCEQN-3342       S               0.0       A   \n",
       "1            FCEQN     102      FCEQN-5396       S               0.0       A   \n",
       "2            FCEQN     143      FCEQN-3162       S               0.0       A   \n",
       "3            FCEQN     106      FCEQN-5739       S               0.0       A   \n",
       "4            FCEQN     172            4683       S               0.0       A   \n",
       "\n",
       "   anio_plan_estudios fecha_ingreso_alumno  \n",
       "0              2005.0           02/28/2011  \n",
       "1              2005.0           12/12/2010  \n",
       "2              2008.0           07/03/2011  \n",
       "3              2008.0           12/03/2011  \n",
       "4              2005.0           03/15/2011  "
      ]
     },
     "execution_count": 2,
     "metadata": {},
     "output_type": "execute_result"
    }
   ],
   "source": [
    "#Lectura del dataset\n",
    "\n",
    "academicos = pd.read_csv('../datasets/datos_academicos.csv', ',', index_col='Unnamed: 0')\n",
    "academicos.head(5)"
   ]
  },
  {
   "cell_type": "markdown",
   "metadata": {},
   "source": [
    "### Registro de meta-datos del dataset\n",
    "\n",
    "Se van a registrar:\n",
    "* Los tipos de datos por atributo\n",
    "* El rango de valores que presenta\n",
    "* Algunas características de los valores"
   ]
  },
  {
   "cell_type": "markdown",
   "metadata": {},
   "source": [
    "#### Se usa el método .info() para obtener datos crudos sobre los atributos del dataset y su contenido"
   ]
  },
  {
   "cell_type": "code",
   "execution_count": 3,
   "metadata": {},
   "outputs": [
    {
     "name": "stdout",
     "output_type": "stream",
     "text": [
      "<class 'pandas.core.frame.DataFrame'>\n",
      "Int64Index: 2316 entries, 0 to 2315\n",
      "Data columns (total 8 columns):\n",
      " #   Column                Non-Null Count  Dtype  \n",
      "---  ------                --------------  -----  \n",
      " 0   unidad_academica      2316 non-null   object \n",
      " 1   carrera               2314 non-null   object \n",
      " 2   nro_inscripcion       2316 non-null   object \n",
      " 3   regular               2305 non-null   object \n",
      " 4   cnt_readmisiones      2305 non-null   float64\n",
      " 5   calidad               2306 non-null   object \n",
      " 6   anio_plan_estudios    2310 non-null   float64\n",
      " 7   fecha_ingreso_alumno  2311 non-null   object \n",
      "dtypes: float64(2), object(6)\n",
      "memory usage: 162.8+ KB\n",
      "-------------------------------------\n",
      "Cantidad de filas: 2316\n",
      "Cantidad de columnas: 8\n"
     ]
    }
   ],
   "source": [
    "#Vista de los tipos de datos y datos básicos\n",
    "\n",
    "academicos.info()\n",
    "\n",
    "print(\"-------------------------------------\")\n",
    "print(f\"Cantidad de filas: {academicos.shape[0]}\")\n",
    "print(f\"Cantidad de columnas: {academicos.shape[1]}\")"
   ]
  },
  {
   "cell_type": "markdown",
   "metadata": {},
   "source": [
    "#### Para conocer los valores únicos por atributo y su distribución se usan los métodos .unique() y .value_counts()\n",
    "\n",
    "**.unique()**: lista las ocurrencias de valores únicos en el atributo  \n",
    "**.value_counts()**: por cada valor del atributo muestra la cantidad de filas que registran tal valor"
   ]
  },
  {
   "cell_type": "markdown",
   "metadata": {},
   "source": [
    "**Tipos nominales (string)**"
   ]
  },
  {
   "cell_type": "code",
   "execution_count": 4,
   "metadata": {},
   "outputs": [
    {
     "name": "stdout",
     "output_type": "stream",
     "text": [
      "Valores presentes en el atributo: ['FCEQN'] \n",
      "\n",
      "Conteo de ocurrencias por valor: FCEQN    2316\n",
      "Name: unidad_academica, dtype: int64\n"
     ]
    }
   ],
   "source": [
    "#Vista de los valores únicos en los atributos de tipo string\n",
    "\n",
    "print(f\"Valores presentes en el atributo: {academicos['unidad_academica'].unique()} \\n\")\n",
    "\n",
    "#Vista de la cantidad de ocurrencias de cada valor\n",
    "\n",
    "print(f\"Conteo de ocurrencias por valor: {academicos['unidad_academica'].value_counts()}\")"
   ]
  },
  {
   "cell_type": "code",
   "execution_count": 5,
   "metadata": {},
   "outputs": [
    {
     "name": "stdout",
     "output_type": "stream",
     "text": [
      "Valores presentes en el atributo: ['170' '102' '143' '106' '172' 'SAC' '114' '147' '101' '104' '103' '105'\n",
      " nan '601' '314' '600' '108' '111'] \n",
      "\n",
      "Conteo de ocurrencias por valor: 147    412\n",
      "172    404\n",
      "104    332\n",
      "102    328\n",
      "101    251\n",
      "106    180\n",
      "143    128\n",
      "SAC    107\n",
      "170     86\n",
      "114     29\n",
      "111     27\n",
      "105     18\n",
      "108      6\n",
      "103      3\n",
      "601      1\n",
      "600      1\n",
      "314      1\n",
      "Name: carrera, dtype: int64\n"
     ]
    }
   ],
   "source": [
    "#Vista de los valores únicos en los atributos de tipo string\n",
    "\n",
    "print(f\"Valores presentes en el atributo: {academicos['carrera'].unique()} \\n\")\n",
    "\n",
    "#Vista de la cantidad de ocurrencias de cada valor\n",
    "\n",
    "print(f\"Conteo de ocurrencias por valor: {academicos['carrera'].value_counts()}\")"
   ]
  },
  {
   "cell_type": "code",
   "execution_count": 6,
   "metadata": {},
   "outputs": [
    {
     "name": "stdout",
     "output_type": "stream",
     "text": [
      "Valores presentes en el atributo: ['S' 'N' nan 'X' 'T' 'SI' 'D'] \n",
      "\n",
      "Conteo de ocurrencias por valor: S     1908\n",
      "N      388\n",
      "D        4\n",
      "X        3\n",
      "SI       1\n",
      "T        1\n",
      "Name: regular, dtype: int64\n"
     ]
    }
   ],
   "source": [
    "#Vista de los valores únicos en los atributos de tipo string\n",
    "\n",
    "print(f\"Valores presentes en el atributo: {academicos['regular'].unique()} \\n\")\n",
    "\n",
    "#Vista de la cantidad de ocurrencias de cada valor\n",
    "\n",
    "print(f\"Conteo de ocurrencias por valor: {academicos['regular'].value_counts()}\")"
   ]
  },
  {
   "cell_type": "markdown",
   "metadata": {},
   "source": [
    "**TO DO:** Completar para el resto de los atributos del mismo tipo\n",
    "\n",
    "---"
   ]
  },
  {
   "cell_type": "markdown",
   "metadata": {},
   "source": [
    "**Tipos numéricos**"
   ]
  },
  {
   "cell_type": "code",
   "execution_count": 7,
   "metadata": {},
   "outputs": [
    {
     "name": "stdout",
     "output_type": "stream",
     "text": [
      "Valores presentes en el atributo: [ 0. nan  1.  2.  9. -2.  5. -1.] \n",
      "\n",
      "Estadísticas del atributo: \n",
      "min      -2.000000\n",
      "max       9.000000\n",
      "mean      0.028200\n",
      "std       0.307012\n",
      "median    0.000000\n",
      "Name: cnt_readmisiones, dtype: float64\n"
     ]
    }
   ],
   "source": [
    "#Vista de los valores únicos en los atributos de tipo numérico y obtención de estadísticas\n",
    "\n",
    "print(f\"Valores presentes en el atributo: {academicos['cnt_readmisiones'].unique()} \\n\")\n",
    "\n",
    "#Vista de estadísticas del atributo\n",
    "\n",
    "print(f\"Estadísticas del atributo: \\n{academicos['cnt_readmisiones'].agg(['min', 'max', 'mean', 'std', 'median'])}\")"
   ]
  },
  {
   "cell_type": "code",
   "execution_count": 8,
   "metadata": {},
   "outputs": [
    {
     "name": "stdout",
     "output_type": "stream",
     "text": [
      "Valores presentes en el atributo: [2005. 2008. 2009. 2000. 2007. 2004. 2012. 2011.   nan 2010. 2006. 2003.\n",
      " 1980. 2014. 1999. 2099.] \n",
      "\n",
      "Estadísticas del atributo: \n",
      "min       1980.000000\n",
      "max       2099.000000\n",
      "mean      2006.703896\n",
      "std          4.487675\n",
      "median    2007.000000\n",
      "Name: anio_plan_estudios, dtype: float64\n"
     ]
    }
   ],
   "source": [
    "#Vista de los valores únicos en los atributos de tipo numérico y obtención de estadísticas\n",
    "\n",
    "print(f\"Valores presentes en el atributo: {academicos['anio_plan_estudios'].unique()} \\n\")\n",
    "\n",
    "#Vista de estadísticas del atributo\n",
    "\n",
    "print(f\"Estadísticas del atributo: \\n{academicos['anio_plan_estudios'].agg(['min', 'max', 'mean', 'std', 'median'])}\")"
   ]
  },
  {
   "cell_type": "markdown",
   "metadata": {},
   "source": [
    "**TO DO:** Completar para el resto de los atributos del mismo tipo\n",
    "\n",
    "---"
   ]
  },
  {
   "cell_type": "markdown",
   "metadata": {},
   "source": [
    "### Registro del análisis\n",
    "\n",
    "1. Evaluación de valores nulos (filas y columnas)\n",
    "2. Evaluación de formato válido\n",
    "3. Valores ajustados en rangos (ver anexos)\n",
    "4. Claves únicas\n",
    "5. Integridad referencial\n",
    "6. Cumplimiento de reglas en valores"
   ]
  },
  {
   "cell_type": "markdown",
   "metadata": {},
   "source": [
    "**(1) Valores nulos por filas**"
   ]
  },
  {
   "cell_type": "code",
   "execution_count": 6,
   "metadata": {},
   "outputs": [
    {
     "name": "stdout",
     "output_type": "stream",
     "text": [
      "Cantidad de filas que tienen valores nulos: 45\n"
     ]
    }
   ],
   "source": [
    "#Se comienza por obtener la cantidad de filas por atributo en las que existen valores nulos\n",
    "\n",
    "filas_nulas = academicos.isnull().sum().sum()\n",
    "\n",
    "print(f\"Cantidad de filas que tienen valores nulos: {filas_nulas}\")"
   ]
  },
  {
   "cell_type": "code",
   "execution_count": 20,
   "metadata": {},
   "outputs": [
    {
     "name": "stdout",
     "output_type": "stream",
     "text": [
      "Cantidad de filas que tienen valores nulos más allá del umbral definido: 5\n"
     ]
    }
   ],
   "source": [
    "#Se obtiene la cantidad de valores nulos por fila para calcular el indicador\n",
    "\n",
    "cantidad_columnas = academicos.shape[1]\n",
    "\n",
    "def nulos_x_fila(fila):\n",
    "    nulos = cantidad_columnas - fila.count() #Se calcula la cantidad de valores nulos en la fila\n",
    "    umbral = 0.2 \n",
    "    #Se evalua si se supera el umbral definido\n",
    "    if (nulos > (cantidad_columnas * umbral)):\n",
    "        return 'err'\n",
    "    else:\n",
    "        return 'ok'\n",
    "\n",
    "academicos['completitudF'] = academicos.apply(lambda row: nulos_x_fila(row), axis=1)\n",
    "\n",
    "# Se obtiene la cantidad de errores detectados\n",
    "\n",
    "#academicos['completitudF'].value_counts()\n",
    "\n",
    "# Se visualizan las tuplas con errores\n",
    "\n",
    "#academicos[academicos.completitudF == 'err']\n",
    "filas_err = academicos[academicos.completitudF == 'err'].shape[0]\n",
    "\n",
    "print(f\"Cantidad de filas que tienen valores nulos más allá del umbral definido: {filas_err}\")"
   ]
  },
  {
   "cell_type": "markdown",
   "metadata": {},
   "source": [
    "**(1) Valores nulos por columnas**"
   ]
  },
  {
   "cell_type": "code",
   "execution_count": 14,
   "metadata": {},
   "outputs": [
    {
     "name": "stdout",
     "output_type": "stream",
     "text": [
      "Cantidad de filas que tienen valores nulos por atributo: unidad_academica         0\n",
      "carrera                  2\n",
      "nro_inscripcion          0\n",
      "regular                 11\n",
      "cnt_readmisiones        11\n",
      "calidad                 10\n",
      "anio_plan_estudios       6\n",
      "fecha_ingreso_alumno     5\n",
      "completitudF             0\n",
      "dtype: int64\n"
     ]
    }
   ],
   "source": [
    "#Como segundo paso se pasa a obtener la cantidad de nulos por cada columna\n",
    "\n",
    "nulos_x_columna = academicos.isna().sum()\n",
    "\n",
    "print(f\"Cantidad de filas que tienen valores nulos por atributo: {nulos_x_columna}\")"
   ]
  },
  {
   "cell_type": "code",
   "execution_count": 19,
   "metadata": {},
   "outputs": [
    {
     "data": {
      "text/html": [
       "<div>\n",
       "<style scoped>\n",
       "    .dataframe tbody tr th:only-of-type {\n",
       "        vertical-align: middle;\n",
       "    }\n",
       "\n",
       "    .dataframe tbody tr th {\n",
       "        vertical-align: top;\n",
       "    }\n",
       "\n",
       "    .dataframe thead th {\n",
       "        text-align: right;\n",
       "    }\n",
       "</style>\n",
       "<table border=\"1\" class=\"dataframe\">\n",
       "  <thead>\n",
       "    <tr style=\"text-align: right;\">\n",
       "      <th></th>\n",
       "      <th>unidad_academica</th>\n",
       "      <th>carrera</th>\n",
       "      <th>nro_inscripcion</th>\n",
       "      <th>regular</th>\n",
       "      <th>cnt_readmisiones</th>\n",
       "      <th>calidad</th>\n",
       "      <th>anio_plan_estudios</th>\n",
       "      <th>fecha_ingreso_alumno</th>\n",
       "      <th>completitudF</th>\n",
       "    </tr>\n",
       "  </thead>\n",
       "  <tbody>\n",
       "    <tr>\n",
       "      <th>853</th>\n",
       "      <td>FCEQN</td>\n",
       "      <td>NaN</td>\n",
       "      <td>FCEQN-7254</td>\n",
       "      <td>S</td>\n",
       "      <td>NaN</td>\n",
       "      <td>NaN</td>\n",
       "      <td>2007.0</td>\n",
       "      <td>06/04/2013</td>\n",
       "      <td>err</td>\n",
       "    </tr>\n",
       "    <tr>\n",
       "      <th>854</th>\n",
       "      <td>FCEQN</td>\n",
       "      <td>NaN</td>\n",
       "      <td>FCEQN-6932</td>\n",
       "      <td>S</td>\n",
       "      <td>NaN</td>\n",
       "      <td>NaN</td>\n",
       "      <td>2011.0</td>\n",
       "      <td>12/12/2012</td>\n",
       "      <td>err</td>\n",
       "    </tr>\n",
       "  </tbody>\n",
       "</table>\n",
       "</div>"
      ],
      "text/plain": [
       "    unidad_academica carrera nro_inscripcion regular  cnt_readmisiones  \\\n",
       "853            FCEQN     NaN      FCEQN-7254       S               NaN   \n",
       "854            FCEQN     NaN      FCEQN-6932       S               NaN   \n",
       "\n",
       "    calidad  anio_plan_estudios fecha_ingreso_alumno completitudF  \n",
       "853     NaN              2007.0           06/04/2013          err  \n",
       "854     NaN              2011.0           12/12/2012          err  "
      ]
     },
     "execution_count": 19,
     "metadata": {},
     "output_type": "execute_result"
    }
   ],
   "source": [
    "#Para poder observar el detalle por filas de las columnas con datos nulos\n",
    "\n",
    "academicos[academicos['carrera'].isnull()]"
   ]
  },
  {
   "cell_type": "markdown",
   "metadata": {},
   "source": [
    "**(2) Formato válido en atributo nro_inscripcion**"
   ]
  },
  {
   "cell_type": "code",
   "execution_count": 24,
   "metadata": {},
   "outputs": [
    {
     "name": "stdout",
     "output_type": "stream",
     "text": [
      "Cantidad de filas con errores de formato en atributos: 71\n"
     ]
    }
   ],
   "source": [
    "#Verificar formato válido - atributo:nro_inscripcion -\n",
    "#El formato debería ser FCEQN-#### (el número de matrícula del alumno)\n",
    "#Se puede usar una evaluación de correspondencia con una expresión regular\n",
    "\n",
    "academicos['nueva'] = academicos['nro_inscripcion'].astype(str).str.match(\"\\D{5}.\\d{1,4}$\")\n",
    "\n",
    "#A partir de esto se podría verificar a través de una nueva columna auxiliar\n",
    "\n",
    "academicos[academicos.nueva == False]\n",
    "\n",
    "# Se filtran las filas con estos valores erróneos\n",
    "\n",
    "conteo = academicos[academicos.nueva == False]\n",
    "\n",
    "#Y se cuenta la cantidad de errores de formateo\n",
    "\n",
    "errores_formato = conteo.shape[0]\n",
    "print(f\"Cantidad de filas con errores de formato en atributos: {errores_formato}\")"
   ]
  },
  {
   "cell_type": "markdown",
   "metadata": {},
   "source": [
    "**(3) Valores en rangos predefinidos**"
   ]
  },
  {
   "cell_type": "code",
   "execution_count": 34,
   "metadata": {},
   "outputs": [],
   "source": [
    "#Verificar que los valores de cada atributo se encuentren dentro de los listados anexos\n",
    "\n",
    "#Atributo: regular\n",
    "\n",
    "valores = pd.value_counts(academicos['regular']) #Conteo de ocurrencias por valor (not-null)\n",
    "#valores\n",
    "\n",
    "#academicos[academicos.regular.isna()] #Para visualizar las tuplas con valores nulos\n",
    "#cantidad_nulos = len(academicos.regular) - academicos.regular.count() #Conteo de nulos\n",
    "\n",
    "#cantidad_nulos #Impresión de la cantidad de nulos\n",
    "\n",
    "valores_validos = ['S', 'N'] #Se definen los valores validos según el anexo\n",
    "\n",
    "#Se identifica y cuenta a los valores que no cumplen esa condición (incluye los nulos)\n",
    "\n",
    "#resultado = academicos[academicos.regular.isin(valores_validos) == False] \n",
    "#resultado\n",
    "\n",
    "#regular_valores_fuera_rango = resultado.shape[0]\n",
    "#print(f\"Cantidad de filas con valores fuera de rango en atributo regular: {regular_valores_fuera_rango}\")"
   ]
  },
  {
   "cell_type": "code",
   "execution_count": 40,
   "metadata": {},
   "outputs": [],
   "source": [
    "#Verificar que los valores de cada atributo se encuentren dentro de los listados anexos\n",
    "\n",
    "#Atributo: carrera\n",
    "\n",
    "valores = pd.value_counts(academicos['carrera']) #Conteo de ocurrencias por valor (not-null)\n",
    "#valores\n",
    "\n",
    "#academicos[academicos.carrera.isna()] #Para visualizar las tuplas con valores nulos\n",
    "#cantidad_nulos = len(academicos.carrera) - academicos.carrera.count() #Conteo de nulos\n",
    "\n",
    "valores_validos = ['147',\n",
    "'172',\n",
    "'104',\n",
    "'102',\n",
    "'101',\n",
    "'106',\n",
    "'143',\n",
    "'SAC',\n",
    "'170',\n",
    "'114',\n",
    "'111',\n",
    "'105',\n",
    "'108'] #Se definen los valores validos según el anexo\n",
    "\n",
    "#cantidad_nulos #Impresión de la cantidad de nulos\n",
    "\n",
    "#Se identifica y cuenta a los valores que no cumplen esa condición (incluye los nulos)\n",
    "\n",
    "#resultado = academicos[academicos.carrera.isin(valores_validos) == False] \n",
    "#resultado\n",
    "\n",
    "#carrera_valores_fuera_rango = resultado.shape[0]\n",
    "#print(f\"Cantidad de filas con valores fuera de rango en atributo carrera: {carrera_valores_fuera_rango}\")"
   ]
  },
  {
   "cell_type": "code",
   "execution_count": 49,
   "metadata": {},
   "outputs": [],
   "source": [
    "#Atributo: cnt_readmisiones\n",
    "valores = pd.value_counts(academicos['cnt_readmisiones']) #Conteo de ocurrencias por valor (not-null)\n",
    "\n",
    "#academicos[academicos.cnt_readmisiones.isna()] #Para visualizar las tuplas con valores nulos\n",
    "#cantidad_nulos = len(academicos.cnt_readmisiones) - academicos.cnt_readmisiones.count() #Conteo de nulos\n",
    "\n",
    "#cantidad_nulos #Impresión de la cantidad de nulos\n",
    "\n",
    "#Se identifica y cuenta a los valores que no cumplen las condiciones vistas\n",
    "#menores = academicos[academicos.cnt_readmisiones < 0] \n",
    "#menor_cero = menores.shape[0]\n",
    "\n",
    "#mayores = academicos[academicos.cnt_readmisiones > 5] \n",
    "#mayor_cero = mayores.shape[0]\n",
    "\n",
    "#readmisiones_valores_fuera_rango = cantidad_nulos + menor_cero + mayor_cero\n",
    "#print(f\"Cantidad de filas con valores fuera de rango en atributo cnt_readmisiones: {readmisiones_valores_fuera_rango}\")\n",
    "\n",
    "#menores\n",
    "#mayores"
   ]
  },
  {
   "cell_type": "code",
   "execution_count": 62,
   "metadata": {},
   "outputs": [],
   "source": [
    "#Atributo: anio_plan_estudios\n",
    "valores = pd.value_counts(academicos['anio_plan_estudios']) #Conteo de ocurrencias por valor (not-null)\n",
    "\n",
    "#academicos[academicos.anio_plan_estudios.isna()] #Para visualizar las tuplas con valores nulos\n",
    "#cantidad_nulos = len(academicos.anio_plan_estudios) - academicos.anio_plan_estudios.count() #Conteo de nulos\n",
    "\n",
    "#cantidad_nulos #Impresión de la cantidad de nulos\n",
    "\n",
    "#Se identifica y cuenta a los valores que no cumplen las condiciones vistas\n",
    "#menores = academicos[academicos.anio_plan_estudios < 2000] \n",
    "#menor_2k = menores.shape[0]\n",
    "#menor_2k\n",
    "\n",
    "#mayores = academicos[academicos.anio_plan_estudios > 2020] \n",
    "#mayor_hoy = mayores.shape[0]\n",
    "#mayor_hoy\n",
    "\n",
    "#plan_valores_fuera_rango = cantidad_nulos + menor_2k + mayor_hoy\n",
    "#print(f\"Cantidad de filas con valores fuera de rango en atributo anio_plan_estudios: {plan_valores_fuera_rango}\")\n",
    "\n",
    "#menores \n",
    "#mayores"
   ]
  },
  {
   "cell_type": "markdown",
   "metadata": {},
   "source": [
    "**(4) Claves únicas**"
   ]
  },
  {
   "cell_type": "code",
   "execution_count": 68,
   "metadata": {},
   "outputs": [],
   "source": [
    "#Para revisar problemas de claves duplicadas\n",
    "\n",
    "#Se obtiene el valor de la cantidad de filas actual\n",
    "\n",
    "#cant_antes = len(academicos) \n",
    "#cant_antes\n",
    "\n",
    "#Se ordena el dataset según el atributo que se desee evaluar (requerido para el paso siguiente)\n",
    "\n",
    "#academicos.sort_values(\"nro_inscripcion\", inplace=True)\n",
    "\n",
    "\n",
    "#Se detectan y eliminan los duplicados en un atributo dejando la última ocurrencia\n",
    "\n",
    "#academicos.drop_duplicates(subset =\"nro_inscripcion\", keep = 'last', inplace = True)\n",
    "\n",
    "\n",
    "#Se obtiene el valor posterior a la operación\n",
    "#cant_despues = len(academicos)\n",
    "\n",
    "\n",
    "#Se imprimen ambos valores\n",
    "#print(f\"Antes del análisis de duplicados: {cant_antes} - Despues del filtrado de duplicados: {cant_despues}\")"
   ]
  },
  {
   "cell_type": "code",
   "execution_count": 143,
   "metadata": {},
   "outputs": [
    {
     "data": {
      "text/html": [
       "<div>\n",
       "<style scoped>\n",
       "    .dataframe tbody tr th:only-of-type {\n",
       "        vertical-align: middle;\n",
       "    }\n",
       "\n",
       "    .dataframe tbody tr th {\n",
       "        vertical-align: top;\n",
       "    }\n",
       "\n",
       "    .dataframe thead th {\n",
       "        text-align: right;\n",
       "    }\n",
       "</style>\n",
       "<table border=\"1\" class=\"dataframe\">\n",
       "  <thead>\n",
       "    <tr style=\"text-align: right;\">\n",
       "      <th></th>\n",
       "      <th>ua</th>\n",
       "      <th>insc</th>\n",
       "      <th>estado_civil</th>\n",
       "      <th>sit_lab_alumno</th>\n",
       "      <th>tipo_res_alumno</th>\n",
       "      <th>sit_lab_padres</th>\n",
       "      <th>estudios_padres</th>\n",
       "    </tr>\n",
       "  </thead>\n",
       "  <tbody>\n",
       "    <tr>\n",
       "      <th>0</th>\n",
       "      <td>FCEQN</td>\n",
       "      <td>FCEQN-3342</td>\n",
       "      <td>1.0</td>\n",
       "      <td>NC</td>\n",
       "      <td>-1.0</td>\n",
       "      <td>-1</td>\n",
       "      <td>-1.0</td>\n",
       "    </tr>\n",
       "    <tr>\n",
       "      <th>1</th>\n",
       "      <td>FCEQN</td>\n",
       "      <td>FCEQN-5396</td>\n",
       "      <td>1.0</td>\n",
       "      <td>NC</td>\n",
       "      <td>-1.0</td>\n",
       "      <td>-1</td>\n",
       "      <td>-1.0</td>\n",
       "    </tr>\n",
       "    <tr>\n",
       "      <th>2</th>\n",
       "      <td>FCEQN</td>\n",
       "      <td>FCEQN-3162</td>\n",
       "      <td>1.0</td>\n",
       "      <td>No</td>\n",
       "      <td>1.0</td>\n",
       "      <td>3</td>\n",
       "      <td>3.0</td>\n",
       "    </tr>\n",
       "    <tr>\n",
       "      <th>3</th>\n",
       "      <td>FCEQN</td>\n",
       "      <td>FCEQN-5739</td>\n",
       "      <td>3.0</td>\n",
       "      <td>NC</td>\n",
       "      <td>-1.0</td>\n",
       "      <td>-1</td>\n",
       "      <td>-1.0</td>\n",
       "    </tr>\n",
       "    <tr>\n",
       "      <th>4</th>\n",
       "      <td>FCEQN</td>\n",
       "      <td>4683</td>\n",
       "      <td>1.0</td>\n",
       "      <td>NC</td>\n",
       "      <td>-1.0</td>\n",
       "      <td>-1</td>\n",
       "      <td>-1.0</td>\n",
       "    </tr>\n",
       "  </tbody>\n",
       "</table>\n",
       "</div>"
      ],
      "text/plain": [
       "      ua        insc  estado_civil sit_lab_alumno  tipo_res_alumno  \\\n",
       "0  FCEQN  FCEQN-3342           1.0             NC             -1.0   \n",
       "1  FCEQN  FCEQN-5396           1.0             NC             -1.0   \n",
       "2  FCEQN  FCEQN-3162           1.0             No              1.0   \n",
       "3  FCEQN  FCEQN-5739           3.0             NC             -1.0   \n",
       "4  FCEQN        4683           1.0             NC             -1.0   \n",
       "\n",
       "   sit_lab_padres  estudios_padres  \n",
       "0              -1             -1.0  \n",
       "1              -1             -1.0  \n",
       "2               3              3.0  \n",
       "3              -1             -1.0  \n",
       "4              -1             -1.0  "
      ]
     },
     "execution_count": 143,
     "metadata": {},
     "output_type": "execute_result"
    }
   ],
   "source": [
    "#Para verificar integridad referencial se tienen que importar los otros datasets\n",
    "\n",
    "#Lectura del dataset de datos_censales\n",
    "\n",
    "censales = pd.read_csv('../datasets/datos_censales.csv', ',', index_col='Unnamed: 0')\n",
    "censales.head(5)"
   ]
  },
  {
   "cell_type": "code",
   "execution_count": 144,
   "metadata": {},
   "outputs": [
    {
     "data": {
      "text/html": [
       "<div>\n",
       "<style scoped>\n",
       "    .dataframe tbody tr th:only-of-type {\n",
       "        vertical-align: middle;\n",
       "    }\n",
       "\n",
       "    .dataframe tbody tr th {\n",
       "        vertical-align: top;\n",
       "    }\n",
       "\n",
       "    .dataframe thead th {\n",
       "        text-align: right;\n",
       "    }\n",
       "</style>\n",
       "<table border=\"1\" class=\"dataframe\">\n",
       "  <thead>\n",
       "    <tr style=\"text-align: right;\">\n",
       "      <th></th>\n",
       "      <th>unidad_academica</th>\n",
       "      <th>nro_inscripcion</th>\n",
       "      <th>sexo</th>\n",
       "      <th>nacionalidad</th>\n",
       "      <th>fecha_nac_alumno</th>\n",
       "      <th>fecha_egr_sec</th>\n",
       "    </tr>\n",
       "  </thead>\n",
       "  <tbody>\n",
       "    <tr>\n",
       "      <th>0</th>\n",
       "      <td>FCEQN</td>\n",
       "      <td>FCEQN-3342</td>\n",
       "      <td>2</td>\n",
       "      <td>1.0</td>\n",
       "      <td>1992</td>\n",
       "      <td>2004</td>\n",
       "    </tr>\n",
       "    <tr>\n",
       "      <th>1</th>\n",
       "      <td>FCEQN</td>\n",
       "      <td>FCEQN-5396</td>\n",
       "      <td>2</td>\n",
       "      <td>1.0</td>\n",
       "      <td>1993</td>\n",
       "      <td>2010</td>\n",
       "    </tr>\n",
       "    <tr>\n",
       "      <th>2</th>\n",
       "      <td>FCEQN</td>\n",
       "      <td>FCEQN-3162</td>\n",
       "      <td>1</td>\n",
       "      <td>1.0</td>\n",
       "      <td>1993</td>\n",
       "      <td>2011</td>\n",
       "    </tr>\n",
       "    <tr>\n",
       "      <th>3</th>\n",
       "      <td>FCEQN</td>\n",
       "      <td>FCEQN-5739</td>\n",
       "      <td>2</td>\n",
       "      <td>1.0</td>\n",
       "      <td>1993</td>\n",
       "      <td>2011</td>\n",
       "    </tr>\n",
       "    <tr>\n",
       "      <th>4</th>\n",
       "      <td>FCEQN</td>\n",
       "      <td>4683</td>\n",
       "      <td>2</td>\n",
       "      <td>1.0</td>\n",
       "      <td>1992</td>\n",
       "      <td>2011</td>\n",
       "    </tr>\n",
       "  </tbody>\n",
       "</table>\n",
       "</div>"
      ],
      "text/plain": [
       "  unidad_academica nro_inscripcion  sexo  nacionalidad  fecha_nac_alumno  \\\n",
       "0            FCEQN      FCEQN-3342     2           1.0              1992   \n",
       "1            FCEQN      FCEQN-5396     2           1.0              1993   \n",
       "2            FCEQN      FCEQN-3162     1           1.0              1993   \n",
       "3            FCEQN      FCEQN-5739     2           1.0              1993   \n",
       "4            FCEQN            4683     2           1.0              1992   \n",
       "\n",
       "   fecha_egr_sec  \n",
       "0           2004  \n",
       "1           2010  \n",
       "2           2011  \n",
       "3           2011  \n",
       "4           2011  "
      ]
     },
     "execution_count": 144,
     "metadata": {},
     "output_type": "execute_result"
    }
   ],
   "source": [
    "#Lectura del dataset de datos_persona\n",
    "\n",
    "persona = pd.read_csv('../datasets/datos_personas.csv', ',', index_col='Unnamed: 0')\n",
    "persona.head(5)"
   ]
  },
  {
   "cell_type": "code",
   "execution_count": 82,
   "metadata": {},
   "outputs": [],
   "source": [
    "#Antes de probar la integración se debe verificar la unicidad de las claves en los otros datasets \n",
    "#Se obtiene el valor de la cantidad de filas actual\n",
    "\n",
    "cant_antes = len(censales) \n",
    "\n",
    "#Se ordena el dataset según el atributo que se desee evaluar (requerido para el paso siguiente)\n",
    "\n",
    "censales.sort_values(\"insc\", inplace=True)\n",
    "\n",
    "#Se detectan y eliminan los duplicados en un atributo dejando la última ocurrencia\n",
    "\n",
    "censales.drop_duplicates(subset =\"insc\", keep = 'last', inplace = True)\n",
    "\n",
    "#Se obtiene el valor posterior a la operación\n",
    "\n",
    "cant_despues = len(censales)\n",
    "\n",
    "#Se imprimen ambos valores\n",
    "\n",
    "#print(f\"Antes del análisis de duplicados: {cant_antes} - Despues del filtrado de duplicados: {cant_despues}\")"
   ]
  },
  {
   "cell_type": "code",
   "execution_count": 81,
   "metadata": {},
   "outputs": [],
   "source": [
    "#Antes de probar la integración se debe verificar la unicidad de las claves en los otros datasets \n",
    "#Se obtiene el valor de la cantidad de filas actual\n",
    "\n",
    "cant_antes = len(persona) \n",
    "\n",
    "#Se ordena el dataset según el atributo que se desee evaluar (requerido para el paso siguiente)\n",
    "\n",
    "persona.sort_values(\"nro_inscripcion\", inplace=True)\n",
    "\n",
    "#Se detectan y eliminan los duplicados en un atributo dejando la última ocurrencia\n",
    "\n",
    "persona.drop_duplicates(subset =\"nro_inscripcion\", keep = 'last', inplace = True)\n",
    "\n",
    "#Se obtiene el valor posterior a la operación\n",
    "\n",
    "cant_despues = len(persona)\n",
    "\n",
    "#Se imprimen ambos valores\n",
    "\n",
    "#print(f\"Antes del análisis de duplicados: {cant_antes} - Despues del filtrado de duplicados: {cant_despues}\")"
   ]
  },
  {
   "cell_type": "markdown",
   "metadata": {},
   "source": [
    "**(5) Integridad referencial**"
   ]
  },
  {
   "cell_type": "code",
   "execution_count": 131,
   "metadata": {},
   "outputs": [
    {
     "data": {
      "text/plain": [
       "2312"
      ]
     },
     "execution_count": 131,
     "metadata": {},
     "output_type": "execute_result"
    }
   ],
   "source": [
    "#Las uniones se hacen de a pares - revisar nombres de atributos\n",
    "semi_completo = pd.merge(persona, academicos, on='nro_inscripcion', how='inner')\n",
    "semi_completo.shape[0]\n",
    "\n",
    "#Para verificar se puede ejecutar\n",
    "#semi_completo.head(5)"
   ]
  },
  {
   "cell_type": "code",
   "execution_count": 132,
   "metadata": {},
   "outputs": [
    {
     "data": {
      "text/html": [
       "<div>\n",
       "<style scoped>\n",
       "    .dataframe tbody tr th:only-of-type {\n",
       "        vertical-align: middle;\n",
       "    }\n",
       "\n",
       "    .dataframe tbody tr th {\n",
       "        vertical-align: top;\n",
       "    }\n",
       "\n",
       "    .dataframe thead th {\n",
       "        text-align: right;\n",
       "    }\n",
       "</style>\n",
       "<table border=\"1\" class=\"dataframe\">\n",
       "  <thead>\n",
       "    <tr style=\"text-align: right;\">\n",
       "      <th></th>\n",
       "      <th>ua</th>\n",
       "      <th>nro_inscripcion</th>\n",
       "      <th>estado_civil</th>\n",
       "      <th>sit_lab_alumno</th>\n",
       "      <th>tipo_res_alumno</th>\n",
       "      <th>sit_lab_padres</th>\n",
       "      <th>estudios_padres</th>\n",
       "    </tr>\n",
       "  </thead>\n",
       "  <tbody>\n",
       "    <tr>\n",
       "      <th>0</th>\n",
       "      <td>FCEQN</td>\n",
       "      <td>FCEQN-3342</td>\n",
       "      <td>1.0</td>\n",
       "      <td>NC</td>\n",
       "      <td>-1.0</td>\n",
       "      <td>-1</td>\n",
       "      <td>-1.0</td>\n",
       "    </tr>\n",
       "  </tbody>\n",
       "</table>\n",
       "</div>"
      ],
      "text/plain": [
       "      ua nro_inscripcion  estado_civil sit_lab_alumno  tipo_res_alumno  \\\n",
       "0  FCEQN      FCEQN-3342           1.0             NC             -1.0   \n",
       "\n",
       "   sit_lab_padres  estudios_padres  \n",
       "0              -1             -1.0  "
      ]
     },
     "execution_count": 132,
     "metadata": {},
     "output_type": "execute_result"
    }
   ],
   "source": [
    "cambios = {'insc' : 'nro_inscripcion'}\n",
    "censales.rename(columns=cambios, inplace=True)\n",
    "censales.head(1)"
   ]
  },
  {
   "cell_type": "code",
   "execution_count": 133,
   "metadata": {},
   "outputs": [
    {
     "data": {
      "text/plain": [
       "2312"
      ]
     },
     "execution_count": 133,
     "metadata": {},
     "output_type": "execute_result"
    }
   ],
   "source": [
    "#Las uniones se hacen de a pares - revisar nombres de atributos\n",
    "completo = pd.merge(censales, semi_completo, on='nro_inscripcion', how='inner')\n",
    "completo.shape[0]\n",
    "\n",
    "#Para verificar se puede ejecutar\n",
    "\n",
    "#completo.head(5)\n",
    "\n",
    "#Se obtiene el valor para el indicador\n",
    "\n",
    "#cant_problemas = academicos.shape[0] - completo.shape[0]\n",
    "#print(f\"Casos de problemas de integridad referencial: {cant_problemas}\")"
   ]
  },
  {
   "cell_type": "markdown",
   "metadata": {},
   "source": [
    "**(6) Reglas en valores**"
   ]
  },
  {
   "cell_type": "code",
   "execution_count": 134,
   "metadata": {},
   "outputs": [
    {
     "data": {
      "text/plain": [
       "ua                           FCEQN\n",
       "nro_inscripcion         FCEQN-6992\n",
       "estado_civil                     1\n",
       "sit_lab_alumno                  NC\n",
       "tipo_res_alumno                 -1\n",
       "sit_lab_padres                  -1\n",
       "estudios_padres                 -1\n",
       "unidad_academica_x           FCEQN\n",
       "sexo                             1\n",
       "nacionalidad                     1\n",
       "fecha_nac_alumno              1994\n",
       "fecha_egr_sec                 2011\n",
       "unidad_academica_y           FCEQN\n",
       "carrera                        143\n",
       "regular                          S\n",
       "cnt_readmisiones                 0\n",
       "calidad                          A\n",
       "anio_plan_estudios            2008\n",
       "fecha_ingreso_alumno           NaN\n",
       "completitudF                    ok\n",
       "nueva                         True\n",
       "Name: 957, dtype: object"
      ]
     },
     "execution_count": 134,
     "metadata": {},
     "output_type": "execute_result"
    }
   ],
   "source": [
    "#Finalmente (última verificación) se revisan cuestiones de aplicación de reglas en los valores del nuevo dataset\n",
    "\n",
    "#Regla: año egreso secundario no puede ser mayor a año de ingreso a la carrera\n",
    "\n",
    "#Muestra\n",
    "\n",
    "nro_fila = 957\n",
    "completo.iloc[nro_fila]\n",
    "\n",
    "#fecha_i = completo.fecha_ingreso_alumno.iloc[nro_fila]\n",
    "#fecha_i\n",
    "#ingreso = int(fecha_i[-4:])\n",
    "#ingreso\n",
    "#egreso = int(completo.fecha_egr_sec.iloc[nro_fila])\n",
    "#egreso\n",
    "\n",
    "#diferencia = ingreso - egreso\n",
    "\n",
    "#print(f\" Ingreso a carrera: {ingreso} \\n Egreso nivel medio: {egreso}\\n Diferencia: {diferencia}\")"
   ]
  },
  {
   "cell_type": "code",
   "execution_count": 141,
   "metadata": {},
   "outputs": [],
   "source": [
    "#Se puede definir una función para aplicar los cálculos\n",
    "def reglaAnioSecundario(row):\n",
    "    #fecha_ingreso_alumno es tipo date\n",
    "    anio_ingreso = int(row['fecha_ingreso_alumno'][-4:]) #Se aisla el año\n",
    "    \n",
    "    anio_egreso_secundaria = int(row['fecha_egr_sec'])\n",
    "    diferencia = anio_ingreso - anio_egreso_secundaria\n",
    "    if (diferencia < 0):\n",
    "        #Es un error ya que no podría entrar al nivel superior sin haber finalizado en el nivel medio\n",
    "        return 'err'\n",
    "    else:\n",
    "        return 'ok'\n",
    "\n",
    "#Se verifican los valores presentes\n",
    "\n",
    "#completo.fecha_ingreso_alumno.value_counts()\n",
    "#completo.fecha_egr_sec.value_counts()\n",
    "\n",
    "\n",
    "#Se revisan los valores nulos en cada atributo\n",
    "\n",
    "#completo[completo['fecha_ingreso_alumno'].isnull()]\n",
    "#completo[completo['fecha_egr_sec'].isnull()]\n",
    "\n",
    "#Si fuera necesario completar los nulos, se podría hacer con el valor con más ocurrencias (habiendo otras opciones)\n",
    "#completo['fecha_ingreso_alumno'].fillna('12/12/2010',inplace=True)\n",
    "\n",
    "#Se aplica la función para todos los elementos del dataset\n",
    "#completo['diferencia_nivel'] = completo.apply(lambda row: reglaAnioSecundario(row), axis=1)\n",
    "\n",
    "#Se verifica la cantidad de elementos\n",
    "#aux = completo[completo.diferencia_nivel == 'err']\n",
    "#aux\n",
    "\n",
    "#cant_problemas = aux.shape[0]\n",
    "#print(f\"Casos de problemas de valores por reglas: {cant_problemas}\")"
   ]
  }
 ],
 "metadata": {
  "kernelspec": {
   "display_name": "Python 3",
   "language": "python",
   "name": "python3"
  },
  "language_info": {
   "codemirror_mode": {
    "name": "ipython",
    "version": 3
   },
   "file_extension": ".py",
   "mimetype": "text/x-python",
   "name": "python",
   "nbconvert_exporter": "python",
   "pygments_lexer": "ipython3",
   "version": "3.9.0"
  }
 },
 "nbformat": 4,
 "nbformat_minor": 2
}
